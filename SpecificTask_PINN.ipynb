{
 "cells": [
  {
   "cell_type": "markdown",
   "metadata": {},
   "source": [
    "# Physics-Informed Neural Network (PINN) for Gravitational Lensing"
   ]
  },
  {
   "cell_type": "markdown",
   "metadata": {},
   "source": [
    " In this notebook, we are making the architecture take the form of a physics informed neural network (PINN). We are using the gravitational lensing equation as specified in the task. We have also added more physics flavor to the notebook.\n",
    "\n",
    " We have relied heavily on the related papers provided in the project description, specially\n",
    " 1. Deep Learning the Morphology of Dark Matter Substructure\n",
    " 2. LensPINN: Physics Informed Neural Network for Learning Dark Matter Morphology in Lensing"
   ]
  },
  {
   "cell_type": "markdown",
   "metadata": {},
   "source": [
    "### Imports"
   ]
  },
  {
   "cell_type": "code",
   "execution_count": 1,
   "metadata": {},
   "outputs": [
    {
     "name": "stdout",
     "output_type": "stream",
     "text": [
      "Running on: cuda\n"
     ]
    }
   ],
   "source": [
    "import torch\n",
    "import torch.nn as nn\n",
    "import torch.optim as optim\n",
    "from torch.utils.data import Dataset, DataLoader\n",
    "import torchvision.transforms as transforms\n",
    "from torchvision.models import resnet18\n",
    "import numpy as np\n",
    "from sklearn.metrics import roc_curve, auc, roc_auc_score\n",
    "import matplotlib.pyplot as plt\n",
    "import os\n",
    "\n",
    "device = torch.device(\"cuda\" if torch.cuda.is_available() else \"cpu\")\n",
    "print(f\"Running on: {device}\")"
   ]
  },
  {
   "cell_type": "code",
   "execution_count": 2,
   "metadata": {},
   "outputs": [],
   "source": [
    "base_dir = r\"/mnt/Data/GSoC25/ML4SCI/Evaluation Task/data/dataset/dataset\""
   ]
  },
  {
   "cell_type": "markdown",
   "metadata": {},
   "source": [
    "### Loading Dataset\n",
    "same as the baseline"
   ]
  },
  {
   "cell_type": "code",
   "execution_count": 3,
   "metadata": {},
   "outputs": [],
   "source": [
    "class LensingDataset(Dataset):\n",
    "    def __init__(self, root_dir, split='train', transform=None):\n",
    "        self.root_dir = os.path.join(root_dir, split)\n",
    "        self.transform = transform\n",
    "        self.classes = ['no', 'sphere', 'vort']\n",
    "        self.data = []\n",
    "        self.labels = []\n",
    "\n",
    "        for idx, cls in enumerate(self.classes):\n",
    "            cls_path = os.path.join(self.root_dir, cls)\n",
    "            for img_name in os.listdir(cls_path):\n",
    "                self.data.append(os.path.join(cls_path, img_name))\n",
    "                self.labels.append(idx)\n",
    "\n",
    "    def __len__(self):\n",
    "        return len(self.data)\n",
    "\n",
    "    def __getitem__(self, idx):\n",
    "        img_path = self.data[idx]\n",
    "        label = self.labels[idx]\n",
    "        img = np.load(img_path).squeeze(0)\n",
    "        img = torch.tensor(img, dtype=torch.float32).unsqueeze(0)\n",
    "        if self.transform:\n",
    "            img = self.transform(img)\n",
    "        return img, label"
   ]
  },
  {
   "cell_type": "markdown",
   "metadata": {},
   "source": [
    "### Physics preprocessing\n",
    "\n",
    "Some physics preprocessing added, inspired by LensPINN paper"
   ]
  },
  {
   "cell_type": "code",
   "execution_count": 4,
   "metadata": {},
   "outputs": [],
   "source": [
    "def physics_preprocess(images):\n",
    "    I_max = images.max(dim=2, keepdim=True)[0].max(dim=3, keepdim=True)[0] + 1e-6\n",
    "    log_term = torch.log(I_max / (images + 1e-6))**2\n",
    "    grad_x = torch.gradient(log_term, dim=3)[0]\n",
    "    grad_y = torch.gradient(log_term, dim=2)[0]\n",
    "    grad_xy = grad_x * grad_y\n",
    "    return torch.tanh(grad_xy)"
   ]
  },
  {
   "cell_type": "markdown",
   "metadata": {},
   "source": [
    "### PINN Model\n",
    "\n",
    "This modified model brings together a Vision Transformer (ViT) and a CNN, while keeping physics in the loop to improve gravitational lensing predictions.\n",
    "\n",
    "- ViT as a Feature Extractor: Uses DINO ViT-S/16, tweaked to handle single-channel images.\n",
    "- Physics-Aware Processing: Computes the source position (theta_S) based on deflection angles (alpha) using the lensing equation.\n",
    "- CNN for Final Prediction: A modified ResNet-18 takes in both the processed input and theta_S to make the final call.\n",
    "- Dropout for Stability: Uses dropout (0.3 in ViT, 0.5 in CNN) to avoid overfitting."
   ]
  },
  {
   "cell_type": "code",
   "execution_count": null,
   "metadata": {},
   "outputs": [],
   "source": [
    "class LensVIT_PINN(nn.Module):\n",
    "    def __init__(self):\n",
    "        super(LensVIT_PINN, self).__init__()\n",
    "        self.vit = torch.hub.load('facebookresearch/dino:main', 'dino_vits16', pretrained=True)\n",
    "        orig_proj = self.vit.patch_embed.proj\n",
    "        new_proj = nn.Conv2d(1, 384, kernel_size=16, stride=16)\n",
    "        with torch.no_grad():\n",
    "            new_proj.weight.copy_(orig_proj.weight.mean(dim=1, keepdim=True))\n",
    "            new_proj.bias.copy_(orig_proj.bias)\n",
    "        self.vit.patch_embed.proj = new_proj\n",
    "        self.vit.head = nn.Identity()\n",
    "        # self.dropout1 = nn.Dropout(0.3)  \n",
    "        self.alpha_proj = nn.Linear(384, 150*150*2)\n",
    "        self.cnn = resnet18(pretrained=True)\n",
    "        self.cnn.conv1 = nn.Conv2d(2, 64, kernel_size=7, stride=2, padding=3)\n",
    "        # self.dropout2 = nn.Dropout(0.5)  \n",
    "        self.cnn.fc = nn.Linear(self.cnn.fc.in_features, 3)\n",
    "\n",
    "    def lensing_equation(self, theta_I, alpha):\n",
    "        batch_size = theta_I.size(0)\n",
    "        alpha = alpha.view(batch_size, 150, 150, 2)\n",
    "        theta = torch.norm(theta_I, dim=1, keepdim=True)\n",
    "        theta_E = alpha.mean(dim=(2, 3)).mean(dim=1, keepdim=True).view(batch_size, 1, 1, 1)\n",
    "        alpha_sis = theta_E * theta_I / (theta + 1e-6)\n",
    "        theta_S = theta_I - alpha_sis\n",
    "        theta_S = theta_S.clamp(0, 149)\n",
    "        return theta_S\n",
    "    \n",
    "    def forward(self, x):\n",
    "        x_processed = physics_preprocess(x)\n",
    "        vit_features = self.vit(x_processed)\n",
    "        # vit_features = self.dropout1(vit_features)\n",
    "        alpha = self.alpha_proj(vit_features)\n",
    "        theta_S = self.lensing_equation(x_processed, alpha)\n",
    "        combined_input = torch.cat([x_processed, theta_S], dim=1)\n",
    "        return self.cnn(combined_input)  "
   ]
  },
  {
   "cell_type": "markdown",
   "metadata": {},
   "source": [
    "### Training Function\n",
    "Used a physics loss to keep lensing predictions realistic by comparing expected and predicted source positions."
   ]
  },
  {
   "cell_type": "code",
   "execution_count": 9,
   "metadata": {},
   "outputs": [],
   "source": [
    "def train_model_with_physicsLoss(model, train_loader, val_loader, epochs=50, device=device):\n",
    "    criterion = nn.CrossEntropyLoss()\n",
    "    physics_criterion = nn.MSELoss()\n",
    "    optimizer = optim.AdamW(model.parameters(), lr=2e-4)  \n",
    "    best_auc = 0\n",
    "    \n",
    "\n",
    "    for epoch in range(epochs):\n",
    "        model.train()\n",
    "        train_loss = 0\n",
    "        for images, labels in train_loader:\n",
    "            images, labels = images.to(device), labels.to(device)\n",
    "            optimizer.zero_grad()\n",
    "            outputs = model(images)\n",
    "            ce_loss = criterion(outputs, labels)\n",
    "            vit_features = model.vit(images)\n",
    "            alpha = model.alpha_proj(vit_features)\n",
    "            theta_S = model.lensing_equation(images, alpha)\n",
    "            alpha_reshaped = alpha.view(images.size(0), 150, 150, 2).mean(dim=-1).unsqueeze(1)\n",
    "            physics_loss = physics_criterion(theta_S, images - alpha_reshaped)\n",
    "            loss = ce_loss + 0.01 * physics_loss  \n",
    "            loss.backward()\n",
    "            optimizer.step()\n",
    "            train_loss += loss.item()\n",
    "        \n",
    "        model.eval()\n",
    "        val_preds, val_labels = [], []\n",
    "        with torch.no_grad():\n",
    "            for images, labels in val_loader:\n",
    "                images, labels = images.to(device), labels.to(device)\n",
    "                outputs = model(images)\n",
    "                val_preds.append(torch.softmax(outputs, dim=1).cpu().numpy())\n",
    "                val_labels.append(labels.cpu().numpy())\n",
    "\n",
    "        val_preds = np.concatenate(val_preds)\n",
    "        val_labels = np.concatenate(val_labels)\n",
    "        auc_score = roc_auc_score(val_labels, val_preds, multi_class='ovr')\n",
    "        print(f'Epoch {epoch+1}, Loss: {train_loss/len(train_loader):.4f}, AUC: {auc_score:.4f}')\n",
    "\n",
    "        if auc_score > best_auc:\n",
    "            best_auc = auc_score\n",
    "            torch.save(model.state_dict(), 'LensVIT_PINN_weights.pth')"
   ]
  },
  {
   "cell_type": "markdown",
   "metadata": {},
   "source": [
    "### Evaluation Function"
   ]
  },
  {
   "cell_type": "code",
   "execution_count": 11,
   "metadata": {},
   "outputs": [],
   "source": [
    "def evaluate_model(model, val_loader, device=device):\n",
    "    model.eval()\n",
    "    test_preds, test_labels = [], []\n",
    "    with torch.no_grad():\n",
    "        for images, labels in val_loader:\n",
    "            images, labels = images.to(device), labels.to(device)\n",
    "            outputs = model(images)\n",
    "            test_preds.append(torch.softmax(outputs, dim=1).cpu().numpy())\n",
    "            test_labels.append(labels.cpu().numpy())\n",
    "\n",
    "    test_preds = np.concatenate(test_preds)\n",
    "    test_labels = np.concatenate(test_labels)\n",
    "\n",
    "    fpr, tpr, roc_auc = {}, {}, {}\n",
    "    class_names = ['No Substructure', 'Subhalo', 'Vortex']\n",
    "    for i in range(3):\n",
    "        fpr[i], tpr[i], _ = roc_curve(test_labels == i, test_preds[:, i])\n",
    "        roc_auc[i] = auc(fpr[i], tpr[i])\n",
    "    \n",
    "    plt.figure()\n",
    "    for i in range(3):\n",
    "        plt.plot(fpr[i], tpr[i], label=f'{class_names[i]} (AUC = {roc_auc[i]:.2f})')\n",
    "    plt.plot([0, 1], [0, 1], 'k--')\n",
    "    plt.xlabel('False Positive Rate')\n",
    "    plt.ylabel('True Positive Rate')\n",
    "    plt.title('ROC Curve - LensVIT_PINN')\n",
    "    plt.legend()\n",
    "    plt.show()\n",
    "\n",
    "    print(\"AUC Scores:\", roc_auc)"
   ]
  },
  {
   "cell_type": "markdown",
   "metadata": {},
   "source": [
    "### Setting up and Running"
   ]
  },
  {
   "cell_type": "code",
   "execution_count": 8,
   "metadata": {},
   "outputs": [
    {
     "name": "stderr",
     "output_type": "stream",
     "text": [
      "Using cache found in /home/eman/.cache/torch/hub/facebookresearch_dino_main\n",
      "/home/eman/anaconda3/lib/python3.12/site-packages/torchvision/models/_utils.py:208: UserWarning: The parameter 'pretrained' is deprecated since 0.13 and may be removed in the future, please use 'weights' instead.\n",
      "  warnings.warn(\n",
      "/home/eman/anaconda3/lib/python3.12/site-packages/torchvision/models/_utils.py:223: UserWarning: Arguments other than a weight enum or `None` for 'weights' are deprecated since 0.13 and may be removed in the future. The current behavior is equivalent to passing `weights=ResNet18_Weights.IMAGENET1K_V1`. You can also use `weights=ResNet18_Weights.DEFAULT` to get the most up-to-date weights.\n",
      "  warnings.warn(msg)\n"
     ]
    },
    {
     "name": "stdout",
     "output_type": "stream",
     "text": [
      "Firing up LensPINN training...\n",
      "Epoch 1, Loss: 1.1197, AUC: 0.5267\n",
      "Epoch 2, Loss: 1.1015, AUC: 0.5486\n",
      "Epoch 3, Loss: 1.0863, AUC: 0.5813\n",
      "Epoch 4, Loss: 1.0593, AUC: 0.6523\n",
      "Epoch 5, Loss: 1.0138, AUC: 0.6915\n",
      "Epoch 6, Loss: 0.9738, AUC: 0.7372\n",
      "Epoch 7, Loss: 0.9356, AUC: 0.7625\n",
      "Epoch 8, Loss: 0.9024, AUC: 0.7679\n",
      "Epoch 9, Loss: 0.8655, AUC: 0.7564\n",
      "Epoch 10, Loss: 0.8323, AUC: 0.7941\n",
      "Epoch 11, Loss: 0.8028, AUC: 0.7896\n",
      "Epoch 12, Loss: 0.7788, AUC: 0.8106\n",
      "Epoch 13, Loss: 0.7579, AUC: 0.8320\n",
      "Epoch 14, Loss: 0.7315, AUC: 0.8295\n",
      "Epoch 15, Loss: 0.7113, AUC: 0.8351\n",
      "Epoch 16, Loss: 0.6962, AUC: 0.8378\n",
      "Epoch 17, Loss: 0.6783, AUC: 0.8491\n",
      "Epoch 18, Loss: 0.6588, AUC: 0.8567\n",
      "Epoch 19, Loss: 0.6399, AUC: 0.8523\n",
      "Epoch 20, Loss: 0.6222, AUC: 0.8502\n",
      "Epoch 21, Loss: 0.6043, AUC: 0.8613\n",
      "Epoch 22, Loss: 0.5949, AUC: 0.8501\n",
      "Epoch 23, Loss: 0.5695, AUC: 0.8733\n",
      "Epoch 24, Loss: 0.5533, AUC: 0.8658\n",
      "Epoch 25, Loss: 0.5408, AUC: 0.8619\n",
      "Epoch 26, Loss: 0.5308, AUC: 0.8542\n",
      "Epoch 27, Loss: 0.5140, AUC: 0.8707\n",
      "Epoch 28, Loss: 0.5061, AUC: 0.8760\n",
      "Epoch 29, Loss: 0.4824, AUC: 0.8711\n",
      "Epoch 30, Loss: 0.4739, AUC: 0.8757\n",
      "Epoch 31, Loss: 0.4583, AUC: 0.8688\n",
      "Epoch 32, Loss: 0.4489, AUC: 0.8736\n",
      "Epoch 33, Loss: 0.4374, AUC: 0.8737\n",
      "Epoch 34, Loss: 0.4198, AUC: 0.8617\n",
      "Epoch 35, Loss: 0.4108, AUC: 0.8707\n",
      "Epoch 36, Loss: 0.4038, AUC: 0.8626\n",
      "Epoch 37, Loss: 0.3866, AUC: 0.8750\n",
      "Epoch 38, Loss: 0.3760, AUC: 0.8691\n",
      "Epoch 39, Loss: 0.3683, AUC: 0.8786\n",
      "Epoch 40, Loss: 0.3544, AUC: 0.8753\n",
      "Epoch 41, Loss: 0.3475, AUC: 0.8699\n",
      "Epoch 42, Loss: 0.3336, AUC: 0.8587\n",
      "Epoch 43, Loss: 0.3312, AUC: 0.8693\n",
      "Epoch 44, Loss: 0.3182, AUC: 0.8732\n",
      "Epoch 45, Loss: 0.3090, AUC: 0.8660\n",
      "Epoch 46, Loss: 0.3013, AUC: 0.8597\n",
      "Epoch 47, Loss: 0.2936, AUC: 0.8672\n",
      "Epoch 48, Loss: 0.2883, AUC: 0.8730\n",
      "Epoch 49, Loss: 0.2786, AUC: 0.8684\n",
      "Epoch 50, Loss: 0.2743, AUC: 0.8719\n"
     ]
    },
    {
     "data": {
      "image/png": "[encoded data removed]",
      "text/plain": [
       "<Figure size 640x480 with 1 Axes>"
      ]
     },
     "metadata": {},
     "output_type": "display_data"
    },
    {
     "name": "stdout",
     "output_type": "stream",
     "text": [
      "AUC Scores: {0: 0.91458448, 1: 0.847772, 2: 0.8733799200000001}\n"
     ]
    }
   ],
   "source": [
    "transform = transforms.Compose([transforms.RandomRotation(10)]) \n",
    "\n",
    "train_dataset = LensingDataset(base_dir, split='train', transform=transform)\n",
    "val_dataset = LensingDataset(base_dir, split='val')\n",
    "train_loader = DataLoader(train_dataset, batch_size=32, shuffle=True, num_workers=4)\n",
    "val_loader = DataLoader(val_dataset, batch_size=32, shuffle=False, num_workers=4)\n",
    "\n",
    "torch.cuda.empty_cache()\n",
    "pinn = LensVIT_PINN().to(device)\n",
    "print(\"Firing up LensPINN training...\")\n",
    "train_model_with_physicsLoss(pinn, train_loader, val_loader, epochs=50)\n",
    "pinn.load_state_dict(torch.load('LensVIT_PINN_weights.pth'))\n",
    "evaluate_model(pinn, val_loader)"
   ]
  }
 ],
 "metadata": {
  "kernelspec": {
   "display_name": "base",
   "language": "python",
   "name": "python3"
  },
  "language_info": {
   "codemirror_mode": {
    "name": "ipython",
    "version": 3
   },
   "file_extension": ".py",
   "mimetype": "text/x-python",
   "name": "python",
   "nbconvert_exporter": "python",
   "pygments_lexer": "ipython3",
   "version": "3.12.7"
  }
 },
 "nbformat": 4,
 "nbformat_minor": 2
}
